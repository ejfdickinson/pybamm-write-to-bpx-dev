{
 "cells": [
  {
   "cell_type": "code",
   "execution_count": 1,
   "metadata": {},
   "outputs": [],
   "source": [
    "# Demonstration of write_to_bpx() functionality for converting\n",
    "# pybamm.ParameterValues object to BPX JSON format\n",
    "# Original author: Edmund Dickinson (ED), About:Energy Ltd, February 2023\n",
    "# Uploaded to PyBaMM development, Feb 2023\n",
    "\n",
    "import pybamm\n",
    "from bpx_out import write_to_bpx"
   ]
  },
  {
   "cell_type": "code",
   "execution_count": 4,
   "metadata": {},
   "outputs": [],
   "source": [
    "parameter_values = pybamm.ParameterValues(\"Chen2020\")\n",
    "# parameter_values = pybamm.ParameterValues(\"ORegan2022\")\n",
    "write_to_bpx(parameter_values, 'example.json',\n",
    "    title='Example BPX output.', description='Example BPX output - testing write_to_bpx().'\n",
    ")\n",
    "\n",
    "# Note(ED): fails with \"ORegan2022\" input due to unexpected callable in calc_internal() - to fix\n",
    "# Note(ED): in present state, output has placeholders for callable functions. It is NOT a readable BPX file."
   ]
  }
 ],
 "metadata": {
  "kernelspec": {
   "display_name": "env_pybamm",
   "language": "python",
   "name": "env_pybamm"
  },
  "language_info": {
   "codemirror_mode": {
    "name": "ipython",
    "version": 3
   },
   "file_extension": ".py",
   "mimetype": "text/x-python",
   "name": "python",
   "nbconvert_exporter": "python",
   "pygments_lexer": "ipython3",
   "version": "3.9.12"
  },
  "orig_nbformat": 4
 },
 "nbformat": 4,
 "nbformat_minor": 2
}
